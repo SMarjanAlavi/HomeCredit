{
 "cells": [
  {
   "cell_type": "markdown",
   "metadata": {},
   "source": [
    "# HomeCredit \n",
    "# Part 2: Dealing with Imbalance Data"
   ]
  },
  {
   "cell_type": "markdown",
   "metadata": {},
   "source": [
    "## Introduction:\n",
    "\n",
    "Before we apply any machine learning algorithm to predict the target of the test set, we need to see if the training set is balanced or not. If the training set is imbalance, the prediction quality drops significantly. In most of the cases like in this project, the training set is imbalanced; we have more information about the applicants who have returned their loan, and we have only few examples of the applicants who did not repaid their loan. So, if we work with this imbalance set, the prediction behaves better of the applicants with TARGET = 0, and it will face problems (higher error) on determining the applicants who will not repay their loan.\n",
    "\n",
    "So, the first task is to find how imbalance our training set is. To find the number of Targets, we can use '.sum()' attribute. Note that we cannot use the '.count()' attribute here, because it will count both zeros and ones in the TARGET column.\n",
    "The difference between the number of tatal rows in the TARGET column and the number of the TARGETS with the value of one, gives us the number of non-target samples."
   ]
  },
  {
   "cell_type": "code",
   "execution_count": 1,
   "metadata": {},
   "outputs": [],
   "source": [
    "import pandas as pd\n",
    "df_train = pd.read_csv('Data/application_train.csv')"
   ]
  },
  {
   "cell_type": "code",
   "execution_count": 2,
   "metadata": {},
   "outputs": [
    {
     "name": "stdout",
     "output_type": "stream",
     "text": [
      "We have 307511 samples; 24825 of them with TARGETS = 1, and  282686 with TARGET= 0. So, only 8.1 % of samples are targets.\n"
     ]
    }
   ],
   "source": [
    "number_of_targets = df_train[\"TARGET\"].sum()\n",
    "number_of_samples = df_train['SK_ID_CURR'].count()\n",
    "number_of_non_targets = number_of_samples - number_of_targets\n",
    "balance_ratio = number_of_targets / number_of_samples * 100\n",
    "print('We have', number_of_samples, 'samples;', number_of_targets,'of them with TARGETS = 1, and ',\\\n",
    "      number_of_non_targets, 'with TARGET= 0. So, only %.1f'%balance_ratio, '% of samples are targets.' )"
   ]
  },
  {
   "cell_type": "markdown",
   "metadata": {},
   "source": [
    "# Balancing the Data: Oversampling "
   ]
  },
  {
   "cell_type": "markdown",
   "metadata": {},
   "source": [
    "One way to achieve a balances training set, is to repeat some of the training samples with TARGET = 1 such that the number of samples with TARGET = 1 become equal to the number of TARGET = 0.\n",
    "Now, we calculate 'Oversampling_gain' which indicates how many time the Target samples need to be repeated to achieve the balance data set. 'int' converts the result into an integer value."
   ]
  },
  {
   "cell_type": "code",
   "execution_count": 3,
   "metadata": {},
   "outputs": [
    {
     "name": "stdout",
     "output_type": "stream",
     "text": [
      "In order to achieve a 1:1 ratio balanced dataset we will add 257861 extra targets to the training set.\n",
      "Oversampling gain =  12\n"
     ]
    }
   ],
   "source": [
    "extra_targets = number_of_non_targets - number_of_targets\n",
    "print('In order to achieve a 1:1 ratio balanced dataset we will add', extra_targets, 'extra targets to the training set.')\n",
    "Oversampling_gain = int((extra_targets + number_of_targets) / number_of_targets)+1\n",
    "print('Oversampling gain = ', Oversampling_gain)"
   ]
  },
  {
   "cell_type": "markdown",
   "metadata": {},
   "source": [
    "Now, let's copy samples with target = 1 from the training set and add them to the training set to achieve a balanced training data.\n",
    "So, first we will separate rowswoth TARGET = 1 and save them in a new data frame and name it 'train_ones'. We put the rest of the rows in 'train_zeros' data frame.\n",
    "df_train['TARGET'].isin(['1']) checks weather the the TARGET values are equal to '1' or not, the result of this comparision is either True, or False. When we put this expression inside brackets in front of a column name, the row which refers to the True values are selected and the other ones are deleted from the new datafarem. We can find the 'train_zeros' dataframe similarly."
   ]
  },
  {
   "cell_type": "code",
   "execution_count": 4,
   "metadata": {},
   "outputs": [],
   "source": [
    "df_train_ones = df_train[df_train['TARGET'].isin(['1'])]\n",
    "df_train_zeros = df_train[df_train['TARGET'].isin(['0'])]\n",
    "# To clear some memory sppace we delete the extra dataframes \n",
    "del df_train"
   ]
  },
  {
   "cell_type": "markdown",
   "metadata": {},
   "source": [
    "'.concat' repeats a dataframe to make a new bigger dataframe out of itself (self-concatenating). Here, the 'df_train_ones' is concatenating with itself for 'Oversampling_gain = 12' times to achieve the extra TARGETS. In the second line, we add the zero target samples to the dataframe with extra targets to achieve the balanced data set."
   ]
  },
  {
   "cell_type": "code",
   "execution_count": 5,
   "metadata": {},
   "outputs": [],
   "source": [
    "df_train_ones_oversampled = pd.concat([df_train_ones]*Oversampling_gain)\n",
    "del df_train_ones\n",
    "df_train_balance = pd.concat([df_train_zeros,df_train_ones_oversampled])"
   ]
  },
  {
   "cell_type": "code",
   "execution_count": 7,
   "metadata": {},
   "outputs": [
    {
     "name": "stdout",
     "output_type": "stream",
     "text": [
      "Number of zeros in the balance data set:  282686\n",
      "Number of ones in the balance data set:  297900\n",
      "So, a ratio of 1.05 is achieved after oversampling.\n"
     ]
    }
   ],
   "source": [
    "nofTargets = df_train_balance['TARGET'].sum()\n",
    "nofNonTergats = len(df_train_balance) - df_train_balance['TARGET'].sum()\n",
    "print('Number of zeros in the balance data set: ', nofNonTergats)\n",
    "print('Number of ones in the balance data set: ', nofTargets)\n",
    "ratio = nofTargets/ nofNonTergats\n",
    "print('So, a ratio of %.2f' %ratio, 'is achieved after oversampling.')"
   ]
  },
  {
   "cell_type": "markdown",
   "metadata": {},
   "source": [
    "After ensuring the balance of the data frame, we save it as 'balancedData.pkl' using '.to_pickle'. In the next part, we will load this data frame by calling 'balancedData.pkl'."
   ]
  },
  {
   "cell_type": "code",
   "execution_count": 6,
   "metadata": {},
   "outputs": [],
   "source": [
    "df_train_balance.to_pickle('balancedData.pkl')"
   ]
  },
  {
   "cell_type": "markdown",
   "metadata": {},
   "source": [
    "# What is next?\n",
    "In the next part, we will use the balance data to train a decision tree. So, let's save the dataframe to use it later."
   ]
  }
 ],
 "metadata": {
  "kernelspec": {
   "display_name": "Python 3",
   "language": "python",
   "name": "python3"
  },
  "language_info": {
   "codemirror_mode": {
    "name": "ipython",
    "version": 3
   },
   "file_extension": ".py",
   "mimetype": "text/x-python",
   "name": "python",
   "nbconvert_exporter": "python",
   "pygments_lexer": "ipython3",
   "version": "3.6.4"
  }
 },
 "nbformat": 4,
 "nbformat_minor": 2
}
