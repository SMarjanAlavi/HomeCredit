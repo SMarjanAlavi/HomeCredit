{
 "cells": [
  {
   "cell_type": "markdown",
   "metadata": {},
   "source": [
    "# Home Credit Risk Default: Examining Data\n",
    "## <font face=\"times\" color = \"#990000\"> Introduction: </font>\n",
    "A financing institute have received several loan request applications. They want to find qualified applicants to receive the loan. Unfortunately, there is no credit history available for the applicants. However, they have historical data available from previous applicants. This program aims to predict which applicant will repay the loan and which one will not.\n",
    "\n",
    "The data is downloaded from a kaggle competition. You can find more information at https://www.kaggle.com/c/home-credit-default-risk"
   ]
  },
  {
   "cell_type": "markdown",
   "metadata": {},
   "source": [
    "## <font face=\"times\" color = \"#990000\"> Reading the data: </font>\n",
    "First of all, we need to look at the data. In this project, I have downloaded the training and test sets <a href=\"https://en.wikipedia.org/wiki/Training,_test,_and_validation_sets\">(What are training/test sets?!)</a> from the API provided by <a href=\"https://www.kaggle.com/c/home-credit-default-risk/data\">\n",
    "Kaggle </a>. We assume you have saved the data ('application_train.csv' and 'application_test.csv' files) in a folder name \"Data\". The \"Data\" folder is located in the same folder as your python file is (in this example, homecredit folder). \n",
    "\n",
    "Since the extention of the data is .csv, you need to read it using <font face=\"courier new\" color = \"#990000\">pd.read_csv</font> as shown bellow. Here, <font face=\"courier new\" color = \"#990000\">'pd'</font> is a name we use to call pandas library, and <font face=\"courier new\" color = \"#990000\">'read_cv'</font> is an attribute of pandas library. Before we use any of the pandas attributes, we have to import the library using <font face=\"courier new\" color = \"#990000\">'import'</font>. The training data is read and saved in a dataframe which we name <font face=\"courier new\" color = \"#009933\">'df_train'</font>. Similarly, the training set is read and saved in a dataframe which we name <font face=\"courier new\" color = \"#009933\">'df_test'</font>.\n",
    "\n",
    "You can also call the file by using its complete path address, e.g., <font face=\"courier new\" color = \"#990000\">'C:/Users/marjan/homecredit/Data/application_train.csv'</font>. \n",
    "\n",
    "Now, you san run the bellow cell by selecting it and pressing \"Shift\"+\"Enter\". You will notice that the number beside cell will be changed into * which indicates the cell is running. It may take a few seconds or more for the data to be read depending on the size of the data. When the star sign changes into a number, the file is read. You will not see any output here unless an error exists."
   ]
  },
  {
   "cell_type": "code",
   "execution_count": 1,
   "metadata": {},
   "outputs": [],
   "source": [
    "import pandas as pd\n",
    "df_train = pd.read_csv('Data/application_train.csv')\n",
    "#df_test = pd.read_csv('Data/application_test.csv')"
   ]
  },
  {
   "cell_type": "markdown",
   "metadata": {},
   "source": [
    "## <font face=\"times\" color = \"#990000\"> Examining the data: </font>\n",
    "It is good to know how big as your dataset and how many rows and columns it has. <font face=\"courier new\" color = \"#990000\">'shape'</font> is the attribute that shows the number of rows and columns of your dataframe. \n",
    "You can find the number of rows of a dataframe by adding <font face=\"courier new\" color = \"#990000\">'.shape[0]'</font> to the dataframe's name.\n",
    "Similarly, the number of columns can be found by adding <font face=\"courier new\" color = \"#990000\">'.shape[1]'</font> to the dataframe's name.\n",
    "Inorder to see the results, you need to print them using the <font face=\"courier new\" color = \"#990000\">'print'</font> instruction. In python 3, you have to used parantheses, and type whatever you want to print inside a pair of paranthesis. Use quotation marks (single or double) to print an exact srting, and use the name of variables without quotation marks to print the value of the vaiables. Seperate them using commas. \n",
    "Rune the bellow cell to see the output of the print line."
   ]
  },
  {
   "cell_type": "code",
   "execution_count": 2,
   "metadata": {},
   "outputs": [
    {
     "name": "stdout",
     "output_type": "stream",
     "text": [
      "The training data has 307511 rows, and 122 columns.\n"
     ]
    }
   ],
   "source": [
    "number_of_rows_train = df_train.shape[0]\n",
    "number_of_columns_train = df_train.shape[1]\n",
    "print('The training data has', number_of_rows_train, 'rows, and', number_of_columns_train, 'columns.' )"
   ]
  },
  {
   "cell_type": "markdown",
   "metadata": {},
   "source": [
    "## <font face=\"times\" color = \"#990000\"> Displaying a few rows of the data: </font>\n",
    "As you can see, the training set has 307511 rows which is a lot! It is a good idea to look at the few first row of the dataset to have an idea of how it looks like. the <font face=\"courier new\" color = \"#990000\">'head()'</font> attribute, select only the first five rows of the data. You can determine the number of first rows you want to select by adding a number inside paranthesis."
   ]
  },
  {
   "cell_type": "code",
   "execution_count": 3,
   "metadata": {},
   "outputs": [
    {
     "name": "stdout",
     "output_type": "stream",
     "text": [
      "   SK_ID_CURR  TARGET NAME_CONTRACT_TYPE CODE_GENDER FLAG_OWN_CAR  \\\n",
      "0      100002       1         Cash loans           M            N   \n",
      "1      100003       0         Cash loans           F            N   \n",
      "2      100004       0    Revolving loans           M            Y   \n",
      "3      100006       0         Cash loans           F            N   \n",
      "4      100007       0         Cash loans           M            N   \n",
      "\n",
      "  FLAG_OWN_REALTY  CNT_CHILDREN  AMT_INCOME_TOTAL  AMT_CREDIT  AMT_ANNUITY  \\\n",
      "0               Y             0          202500.0    406597.5      24700.5   \n",
      "1               N             0          270000.0   1293502.5      35698.5   \n",
      "2               Y             0           67500.0    135000.0       6750.0   \n",
      "3               Y             0          135000.0    312682.5      29686.5   \n",
      "4               Y             0          121500.0    513000.0      21865.5   \n",
      "\n",
      "              ...              FLAG_DOCUMENT_18 FLAG_DOCUMENT_19  \\\n",
      "0             ...                             0                0   \n",
      "1             ...                             0                0   \n",
      "2             ...                             0                0   \n",
      "3             ...                             0                0   \n",
      "4             ...                             0                0   \n",
      "\n",
      "  FLAG_DOCUMENT_20 FLAG_DOCUMENT_21 AMT_REQ_CREDIT_BUREAU_HOUR  \\\n",
      "0                0                0                        0.0   \n",
      "1                0                0                        0.0   \n",
      "2                0                0                        0.0   \n",
      "3                0                0                        NaN   \n",
      "4                0                0                        0.0   \n",
      "\n",
      "  AMT_REQ_CREDIT_BUREAU_DAY  AMT_REQ_CREDIT_BUREAU_WEEK  \\\n",
      "0                       0.0                         0.0   \n",
      "1                       0.0                         0.0   \n",
      "2                       0.0                         0.0   \n",
      "3                       NaN                         NaN   \n",
      "4                       0.0                         0.0   \n",
      "\n",
      "   AMT_REQ_CREDIT_BUREAU_MON  AMT_REQ_CREDIT_BUREAU_QRT  \\\n",
      "0                        0.0                        0.0   \n",
      "1                        0.0                        0.0   \n",
      "2                        0.0                        0.0   \n",
      "3                        NaN                        NaN   \n",
      "4                        0.0                        0.0   \n",
      "\n",
      "   AMT_REQ_CREDIT_BUREAU_YEAR  \n",
      "0                         1.0  \n",
      "1                         0.0  \n",
      "2                         0.0  \n",
      "3                         NaN  \n",
      "4                         0.0  \n",
      "\n",
      "[5 rows x 122 columns]\n"
     ]
    }
   ],
   "source": [
    "print(df_train.head())"
   ]
  },
  {
   "cell_type": "markdown",
   "metadata": {},
   "source": [
    "It might be interesting to know that the last rows of a data fram can be selected by the <font face=\"courier new\" color = \"#990000\">'.tail()'</font> attribute. The line bellow select the last three rows of the training set data frame."
   ]
  },
  {
   "cell_type": "code",
   "execution_count": 4,
   "metadata": {},
   "outputs": [
    {
     "name": "stdout",
     "output_type": "stream",
     "text": [
      "        SK_ID_CURR  TARGET NAME_CONTRACT_TYPE CODE_GENDER FLAG_OWN_CAR  \\\n",
      "307508      456253       0         Cash loans           F            N   \n",
      "307509      456254       1         Cash loans           F            N   \n",
      "307510      456255       0         Cash loans           F            N   \n",
      "\n",
      "       FLAG_OWN_REALTY  CNT_CHILDREN  AMT_INCOME_TOTAL  AMT_CREDIT  \\\n",
      "307508               Y             0          153000.0    677664.0   \n",
      "307509               Y             0          171000.0    370107.0   \n",
      "307510               N             0          157500.0    675000.0   \n",
      "\n",
      "        AMT_ANNUITY             ...              FLAG_DOCUMENT_18  \\\n",
      "307508      29979.0             ...                             0   \n",
      "307509      20205.0             ...                             0   \n",
      "307510      49117.5             ...                             0   \n",
      "\n",
      "       FLAG_DOCUMENT_19 FLAG_DOCUMENT_20 FLAG_DOCUMENT_21  \\\n",
      "307508                0                0                0   \n",
      "307509                0                0                0   \n",
      "307510                0                0                0   \n",
      "\n",
      "       AMT_REQ_CREDIT_BUREAU_HOUR AMT_REQ_CREDIT_BUREAU_DAY  \\\n",
      "307508                        1.0                       0.0   \n",
      "307509                        0.0                       0.0   \n",
      "307510                        0.0                       0.0   \n",
      "\n",
      "        AMT_REQ_CREDIT_BUREAU_WEEK  AMT_REQ_CREDIT_BUREAU_MON  \\\n",
      "307508                         0.0                        1.0   \n",
      "307509                         0.0                        0.0   \n",
      "307510                         0.0                        2.0   \n",
      "\n",
      "        AMT_REQ_CREDIT_BUREAU_QRT  AMT_REQ_CREDIT_BUREAU_YEAR  \n",
      "307508                        0.0                         1.0  \n",
      "307509                        0.0                         0.0  \n",
      "307510                        0.0                         1.0  \n",
      "\n",
      "[3 rows x 122 columns]\n"
     ]
    }
   ],
   "source": [
    "print(df_train.tail(3))"
   ]
  },
  {
   "cell_type": "markdown",
   "metadata": {},
   "source": [
    "## <font face=\"times\" color = \"#990000\"> Statistical Description of the data: </font>\n",
    "Finally, to have a statistic description of your data set, you can use <font face=\"courier new\" color = \"#990000\">'.describe()'</font> attribute. "
   ]
  },
  {
   "cell_type": "code",
   "execution_count": 5,
   "metadata": {},
   "outputs": [
    {
     "name": "stdout",
     "output_type": "stream",
     "text": [
      "A statistical description of the training data: \n",
      "           SK_ID_CURR         TARGET   CNT_CHILDREN  AMT_INCOME_TOTAL  \\\n",
      "count  307511.000000  307511.000000  307511.000000      3.075110e+05   \n",
      "mean   278180.518577       0.080729       0.417052      1.687979e+05   \n",
      "std    102790.175348       0.272419       0.722121      2.371231e+05   \n",
      "min    100002.000000       0.000000       0.000000      2.565000e+04   \n",
      "25%    189145.500000       0.000000       0.000000      1.125000e+05   \n",
      "50%    278202.000000       0.000000       0.000000      1.471500e+05   \n",
      "75%    367142.500000       0.000000       1.000000      2.025000e+05   \n",
      "max    456255.000000       1.000000      19.000000      1.170000e+08   \n",
      "\n",
      "         AMT_CREDIT    AMT_ANNUITY  AMT_GOODS_PRICE  \\\n",
      "count  3.075110e+05  307499.000000     3.072330e+05   \n",
      "mean   5.990260e+05   27108.573909     5.383962e+05   \n",
      "std    4.024908e+05   14493.737315     3.694465e+05   \n",
      "min    4.500000e+04    1615.500000     4.050000e+04   \n",
      "25%    2.700000e+05   16524.000000     2.385000e+05   \n",
      "50%    5.135310e+05   24903.000000     4.500000e+05   \n",
      "75%    8.086500e+05   34596.000000     6.795000e+05   \n",
      "max    4.050000e+06  258025.500000     4.050000e+06   \n",
      "\n",
      "       REGION_POPULATION_RELATIVE     DAYS_BIRTH  DAYS_EMPLOYED  \\\n",
      "count               307511.000000  307511.000000  307511.000000   \n",
      "mean                     0.020868  -16036.995067   63815.045904   \n",
      "std                      0.013831    4363.988632  141275.766519   \n",
      "min                      0.000290  -25229.000000  -17912.000000   \n",
      "25%                      0.010006  -19682.000000   -2760.000000   \n",
      "50%                      0.018850  -15750.000000   -1213.000000   \n",
      "75%                      0.028663  -12413.000000    -289.000000   \n",
      "max                      0.072508   -7489.000000  365243.000000   \n",
      "\n",
      "                  ...              FLAG_DOCUMENT_18  FLAG_DOCUMENT_19  \\\n",
      "count             ...                 307511.000000     307511.000000   \n",
      "mean              ...                      0.008130          0.000595   \n",
      "std               ...                      0.089798          0.024387   \n",
      "min               ...                      0.000000          0.000000   \n",
      "25%               ...                      0.000000          0.000000   \n",
      "50%               ...                      0.000000          0.000000   \n",
      "75%               ...                      0.000000          0.000000   \n",
      "max               ...                      1.000000          1.000000   \n",
      "\n",
      "       FLAG_DOCUMENT_20  FLAG_DOCUMENT_21  AMT_REQ_CREDIT_BUREAU_HOUR  \\\n",
      "count     307511.000000     307511.000000               265992.000000   \n",
      "mean           0.000507          0.000335                    0.006402   \n",
      "std            0.022518          0.018299                    0.083849   \n",
      "min            0.000000          0.000000                    0.000000   \n",
      "25%            0.000000          0.000000                    0.000000   \n",
      "50%            0.000000          0.000000                    0.000000   \n",
      "75%            0.000000          0.000000                    0.000000   \n",
      "max            1.000000          1.000000                    4.000000   \n",
      "\n",
      "       AMT_REQ_CREDIT_BUREAU_DAY  AMT_REQ_CREDIT_BUREAU_WEEK  \\\n",
      "count              265992.000000               265992.000000   \n",
      "mean                    0.007000                    0.034362   \n",
      "std                     0.110757                    0.204685   \n",
      "min                     0.000000                    0.000000   \n",
      "25%                     0.000000                    0.000000   \n",
      "50%                     0.000000                    0.000000   \n",
      "75%                     0.000000                    0.000000   \n",
      "max                     9.000000                    8.000000   \n",
      "\n",
      "       AMT_REQ_CREDIT_BUREAU_MON  AMT_REQ_CREDIT_BUREAU_QRT  \\\n",
      "count              265992.000000              265992.000000   \n",
      "mean                    0.267395                   0.265474   \n",
      "std                     0.916002                   0.794056   \n",
      "min                     0.000000                   0.000000   \n",
      "25%                     0.000000                   0.000000   \n",
      "50%                     0.000000                   0.000000   \n",
      "75%                     0.000000                   0.000000   \n",
      "max                    27.000000                 261.000000   \n",
      "\n",
      "       AMT_REQ_CREDIT_BUREAU_YEAR  \n",
      "count               265992.000000  \n",
      "mean                     1.899974  \n",
      "std                      1.869295  \n",
      "min                      0.000000  \n",
      "25%                      0.000000  \n",
      "50%                      1.000000  \n",
      "75%                      3.000000  \n",
      "max                     25.000000  \n",
      "\n",
      "[8 rows x 106 columns]\n"
     ]
    }
   ],
   "source": [
    "print('A statistical description of the training data: \\n', df_train.describe())"
   ]
  },
  {
   "cell_type": "markdown",
   "metadata": {},
   "source": [
    "As a result, a dataframe with 8 rows and 106 columns appear. You might have noticed that the number of columns are 106 here, while in the dataset, we had 122 columns. It is because we have only 106 numerical data columns, which are considered in the describe method. We have 122-106=16 columns with non-numeric type in the training datase which are ignored here.  \n",
    "\n",
    "### <font face=\"courier new\" color = \"#6600cc\">count:</font> \n",
    "The first row shows the number of data in each column. For example, the number of data in the last column (AMT_REQ_CREDIT_BUREAU_YEAR) is 265992, while the number of data in the first column is 307511. It shows that we have some missed data in the dataframe.\n",
    "\n",
    "### <font face=\"courier new\" color = \"#6600cc\">mean:</font>\n",
    "It shows the average value of each column \n",
    "\n",
    "### <font face=\"courier new\" color = \"#6600cc\">std:</font> \n",
    "It shows the standard deviation of the value of each column. A near zero std shows a quite constant data in the given column.\n",
    "\n",
    "### <font face=\"courier new\" color = \"#6600cc\">min:</font> \n",
    "It shows the minimum value of each column\n",
    "\n",
    "### <font face=\"courier new\" color = \"#6600cc\">25%, 50%, and 75%:</font>\n",
    "It shows the 25% value of each column. One-forth of the data from that column have a value less than this. For example,  the 25% value of the first column is 189145.5. It indicates in the first column from all 307511 rows, 76878 rows have a value less than 189145.5, and 230633 rows have a value more than 189145.5. 50% and 75% gives us statistical distribution information from each column similar to the 25%.\n",
    "\n",
    "### <font face=\"courier new\" color = \"#6600cc\">max:</font>\n",
    "It shows the maximum value of each column.\n"
   ]
  },
  {
   "cell_type": "markdown",
   "metadata": {},
   "source": [
    "The training set shows our historical data including the information from the applicants, and weather they had repaid the loan or not. In order to use the training set, we have to know the name of the columns and where to find required data. The list of the name of the columns can be found using <font face=\"courier new\" color = \"#990000\">'.columns'</font>"
   ]
  },
  {
   "cell_type": "code",
   "execution_count": 6,
   "metadata": {},
   "outputs": [
    {
     "name": "stdout",
     "output_type": "stream",
     "text": [
      "0 SK_ID_CURR\n",
      "1 TARGET\n",
      "2 NAME_CONTRACT_TYPE\n",
      "3 CODE_GENDER\n",
      "4 FLAG_OWN_CAR\n",
      "5 FLAG_OWN_REALTY\n",
      "6 CNT_CHILDREN\n",
      "7 AMT_INCOME_TOTAL\n",
      "8 AMT_CREDIT\n",
      "9 AMT_ANNUITY\n",
      "10 AMT_GOODS_PRICE\n",
      "11 NAME_TYPE_SUITE\n",
      "12 NAME_INCOME_TYPE\n",
      "13 NAME_EDUCATION_TYPE\n",
      "14 NAME_FAMILY_STATUS\n",
      "15 NAME_HOUSING_TYPE\n",
      "16 REGION_POPULATION_RELATIVE\n",
      "17 DAYS_BIRTH\n",
      "18 DAYS_EMPLOYED\n",
      "19 DAYS_REGISTRATION\n",
      "20 DAYS_ID_PUBLISH\n",
      "21 OWN_CAR_AGE\n",
      "22 FLAG_MOBIL\n",
      "23 FLAG_EMP_PHONE\n",
      "24 FLAG_WORK_PHONE\n",
      "25 FLAG_CONT_MOBILE\n",
      "26 FLAG_PHONE\n",
      "27 FLAG_EMAIL\n",
      "28 OCCUPATION_TYPE\n",
      "29 CNT_FAM_MEMBERS\n",
      "30 REGION_RATING_CLIENT\n",
      "31 REGION_RATING_CLIENT_W_CITY\n",
      "32 WEEKDAY_APPR_PROCESS_START\n",
      "33 HOUR_APPR_PROCESS_START\n",
      "34 REG_REGION_NOT_LIVE_REGION\n",
      "35 REG_REGION_NOT_WORK_REGION\n",
      "36 LIVE_REGION_NOT_WORK_REGION\n",
      "37 REG_CITY_NOT_LIVE_CITY\n",
      "38 REG_CITY_NOT_WORK_CITY\n",
      "39 LIVE_CITY_NOT_WORK_CITY\n",
      "40 ORGANIZATION_TYPE\n",
      "41 EXT_SOURCE_1\n",
      "42 EXT_SOURCE_2\n",
      "43 EXT_SOURCE_3\n",
      "44 APARTMENTS_AVG\n",
      "45 BASEMENTAREA_AVG\n",
      "46 YEARS_BEGINEXPLUATATION_AVG\n",
      "47 YEARS_BUILD_AVG\n",
      "48 COMMONAREA_AVG\n",
      "49 ELEVATORS_AVG\n",
      "50 ENTRANCES_AVG\n",
      "51 FLOORSMAX_AVG\n",
      "52 FLOORSMIN_AVG\n",
      "53 LANDAREA_AVG\n",
      "54 LIVINGAPARTMENTS_AVG\n",
      "55 LIVINGAREA_AVG\n",
      "56 NONLIVINGAPARTMENTS_AVG\n",
      "57 NONLIVINGAREA_AVG\n",
      "58 APARTMENTS_MODE\n",
      "59 BASEMENTAREA_MODE\n",
      "60 YEARS_BEGINEXPLUATATION_MODE\n",
      "61 YEARS_BUILD_MODE\n",
      "62 COMMONAREA_MODE\n",
      "63 ELEVATORS_MODE\n",
      "64 ENTRANCES_MODE\n",
      "65 FLOORSMAX_MODE\n",
      "66 FLOORSMIN_MODE\n",
      "67 LANDAREA_MODE\n",
      "68 LIVINGAPARTMENTS_MODE\n",
      "69 LIVINGAREA_MODE\n",
      "70 NONLIVINGAPARTMENTS_MODE\n",
      "71 NONLIVINGAREA_MODE\n",
      "72 APARTMENTS_MEDI\n",
      "73 BASEMENTAREA_MEDI\n",
      "74 YEARS_BEGINEXPLUATATION_MEDI\n",
      "75 YEARS_BUILD_MEDI\n",
      "76 COMMONAREA_MEDI\n",
      "77 ELEVATORS_MEDI\n",
      "78 ENTRANCES_MEDI\n",
      "79 FLOORSMAX_MEDI\n",
      "80 FLOORSMIN_MEDI\n",
      "81 LANDAREA_MEDI\n",
      "82 LIVINGAPARTMENTS_MEDI\n",
      "83 LIVINGAREA_MEDI\n",
      "84 NONLIVINGAPARTMENTS_MEDI\n",
      "85 NONLIVINGAREA_MEDI\n",
      "86 FONDKAPREMONT_MODE\n",
      "87 HOUSETYPE_MODE\n",
      "88 TOTALAREA_MODE\n",
      "89 WALLSMATERIAL_MODE\n",
      "90 EMERGENCYSTATE_MODE\n",
      "91 OBS_30_CNT_SOCIAL_CIRCLE\n",
      "92 DEF_30_CNT_SOCIAL_CIRCLE\n",
      "93 OBS_60_CNT_SOCIAL_CIRCLE\n",
      "94 DEF_60_CNT_SOCIAL_CIRCLE\n",
      "95 DAYS_LAST_PHONE_CHANGE\n",
      "96 FLAG_DOCUMENT_2\n",
      "97 FLAG_DOCUMENT_3\n",
      "98 FLAG_DOCUMENT_4\n",
      "99 FLAG_DOCUMENT_5\n",
      "100 FLAG_DOCUMENT_6\n",
      "101 FLAG_DOCUMENT_7\n",
      "102 FLAG_DOCUMENT_8\n",
      "103 FLAG_DOCUMENT_9\n",
      "104 FLAG_DOCUMENT_10\n",
      "105 FLAG_DOCUMENT_11\n",
      "106 FLAG_DOCUMENT_12\n",
      "107 FLAG_DOCUMENT_13\n",
      "108 FLAG_DOCUMENT_14\n",
      "109 FLAG_DOCUMENT_15\n",
      "110 FLAG_DOCUMENT_16\n",
      "111 FLAG_DOCUMENT_17\n",
      "112 FLAG_DOCUMENT_18\n",
      "113 FLAG_DOCUMENT_19\n",
      "114 FLAG_DOCUMENT_20\n",
      "115 FLAG_DOCUMENT_21\n",
      "116 AMT_REQ_CREDIT_BUREAU_HOUR\n",
      "117 AMT_REQ_CREDIT_BUREAU_DAY\n",
      "118 AMT_REQ_CREDIT_BUREAU_WEEK\n",
      "119 AMT_REQ_CREDIT_BUREAU_MON\n",
      "120 AMT_REQ_CREDIT_BUREAU_QRT\n",
      "121 AMT_REQ_CREDIT_BUREAU_YEAR\n"
     ]
    }
   ],
   "source": [
    "column_number = 0\n",
    "for i in df_train.columns:\n",
    "    print(column_number,i)\n",
    "    column_number = column_number + 1"
   ]
  },
  {
   "cell_type": "markdown",
   "metadata": {},
   "source": [
    "The first column is the application ID which is a unique identifier for each applicant. The second column, shows the target. If the target is equal to 1 it shows the applicant did not return the loan. \n",
    "Using the <font face=\"courier new\" color = \"#990000\">'.count()'</font> attribute, we can find the number of applications we have in the training set. In order to efer to a specific column from the dataset, we should write the column name in the quotation marks inside brakets infront of the dataframe's name. Note that python is a case sensitive language. So, to call the column name properly, you need to consider the lower or upper case letters as it appears in the column list. After the column is indicated, we can add the attribute to find the number of unique applicants."
   ]
  },
  {
   "cell_type": "code",
   "execution_count": 7,
   "metadata": {},
   "outputs": [
    {
     "name": "stdout",
     "output_type": "stream",
     "text": [
      "There are 307511 unique loan applicants in total.\n"
     ]
    }
   ],
   "source": [
    "print('There are', df_train['SK_ID_CURR'].count(), 'unique loan applicants in total.' )"
   ]
  },
  {
   "cell_type": "markdown",
   "metadata": {},
   "source": [
    "## <font face=\"times\" color = \"#990000\"> Imbalance Training Set: </font>"
   ]
  },
  {
   "cell_type": "markdown",
   "metadata": {},
   "source": [
    "Before we apply any machine learning algorithm to predict the target of the test set, we need to see if the training set is balanced or not. If the training set is imbalance, the prediction quality drops significantly. In most of the cases like in this project, the training set is imbalanced; we have more information about the applicants who have returned their loan, and we have only few examples of the applicants who did not repaid their loan. So, if we work with this imbalance set, the prediction behaves better of the applicants with TARGET = 0, and it will face problems (higher error) on determining the applicants who will not repay their loan.\n",
    "\n",
    "So, the first task is to find how imbalance our training set is. To find the number of Targets, we can use <font face=\"courier new\" color = \"#990000\">'.sum()'</font> attribute. Note that we cannot use the <font face=\"courier new\" color = \"#990000\">'.count()'</font> attribute here, because it will count both zeros and ones in the TARGET column.\n",
    "The difference between the number of tatal rows in the TARGET column and the number of the TARGETS with the value of one, gives us the number of non-target samples."
   ]
  },
  {
   "cell_type": "code",
   "execution_count": 8,
   "metadata": {},
   "outputs": [
    {
     "name": "stdout",
     "output_type": "stream",
     "text": [
      "We have 307511 samples; 24825 of them with TARGETS = 1, and  282686 with TARGET= 0. So, only 8.1 % of samples are targets.\n"
     ]
    }
   ],
   "source": [
    "number_of_targets = df_train[\"TARGET\"].sum()\n",
    "number_of_samples = df_train['SK_ID_CURR'].count()\n",
    "number_of_non_targets = number_of_samples - number_of_targets\n",
    "balance_ratio = number_of_targets / number_of_samples * 100\n",
    "print('We have', number_of_samples, 'samples;', number_of_targets,'of them with TARGETS = 1, and ',\\\n",
    "      number_of_non_targets, 'with TARGET= 0. So, only %.1f'%balance_ratio, '% of samples are targets.' )\n"
   ]
  },
  {
   "cell_type": "markdown",
   "metadata": {},
   "source": [
    "## <font face=\"times\" color = \"#990000\"> Ehat is Next? </font>\n",
    "Up to know, we read the data, and examine it. in the next part, we deal with unbalance data and try to find a balance between TARGETs and non-Target Samples."
   ]
  }
 ],
 "metadata": {
  "kernelspec": {
   "display_name": "Python 3",
   "language": "python",
   "name": "python3"
  },
  "language_info": {
   "codemirror_mode": {
    "name": "ipython",
    "version": 3
   },
   "file_extension": ".py",
   "mimetype": "text/x-python",
   "name": "python",
   "nbconvert_exporter": "python",
   "pygments_lexer": "ipython3",
   "version": "3.6.4"
  }
 },
 "nbformat": 4,
 "nbformat_minor": 2
}
