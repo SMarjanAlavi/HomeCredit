{
 "cells": [
  {
   "cell_type": "markdown",
   "metadata": {},
   "source": [
    "# Home Credit Risk Default: \n",
    "# Part 3: Training the Model\n",
    "# Introduction: \n",
    "In this part, we will load the balance data we achieved in part 2, and use it to train a decision tree model."
   ]
  },
  {
   "cell_type": "markdown",
   "metadata": {},
   "source": [
    "To convert .pkl data into a data frame, we uuse '.read_pickle'. "
   ]
  },
  {
   "cell_type": "code",
   "execution_count": 1,
   "metadata": {},
   "outputs": [
    {
     "name": "stdout",
     "output_type": "stream",
     "text": [
      "        SK_ID_CURR  TARGET NAME_CONTRACT_TYPE CODE_GENDER FLAG_OWN_CAR  \\\n",
      "1           100003       0         Cash loans           F            N   \n",
      "2           100004       0    Revolving loans           M            Y   \n",
      "3           100006       0         Cash loans           F            N   \n",
      "4           100007       0         Cash loans           M            N   \n",
      "5           100008       0         Cash loans           M            N   \n",
      "6           100009       0         Cash loans           F            Y   \n",
      "7           100010       0         Cash loans           M            Y   \n",
      "8           100011       0         Cash loans           F            N   \n",
      "9           100012       0    Revolving loans           M            N   \n",
      "10          100014       0         Cash loans           F            N   \n",
      "11          100015       0         Cash loans           F            N   \n",
      "12          100016       0         Cash loans           F            N   \n",
      "13          100017       0         Cash loans           M            Y   \n",
      "14          100018       0         Cash loans           F            N   \n",
      "15          100019       0         Cash loans           M            Y   \n",
      "16          100020       0         Cash loans           M            N   \n",
      "17          100021       0    Revolving loans           F            N   \n",
      "18          100022       0    Revolving loans           F            N   \n",
      "19          100023       0         Cash loans           F            N   \n",
      "20          100024       0    Revolving loans           M            Y   \n",
      "21          100025       0         Cash loans           F            Y   \n",
      "22          100026       0         Cash loans           F            N   \n",
      "23          100027       0         Cash loans           F            N   \n",
      "24          100029       0         Cash loans           M            Y   \n",
      "25          100030       0         Cash loans           F            N   \n",
      "27          100032       0         Cash loans           M            N   \n",
      "28          100033       0         Cash loans           M            Y   \n",
      "29          100034       0    Revolving loans           M            N   \n",
      "30          100035       0         Cash loans           F            N   \n",
      "31          100036       0         Cash loans           F            N   \n",
      "...            ...     ...                ...         ...          ...   \n",
      "307123      455819       1         Cash loans           M            Y   \n",
      "307126      455822       1         Cash loans           M            Y   \n",
      "307133      455830       1    Revolving loans           F            N   \n",
      "307162      455865       1         Cash loans           M            N   \n",
      "307177      455880       1         Cash loans           M            N   \n",
      "307183      455886       1         Cash loans           F            N   \n",
      "307248      455964       1         Cash loans           F            N   \n",
      "307256      455973       1         Cash loans           F            N   \n",
      "307266      455983       1         Cash loans           M            Y   \n",
      "307268      455985       1         Cash loans           M            N   \n",
      "307283      456000       1         Cash loans           M            Y   \n",
      "307285      456002       1         Cash loans           F            N   \n",
      "307288      456005       1         Cash loans           F            N   \n",
      "307310      456034       1         Cash loans           M            N   \n",
      "307323      456047       1         Cash loans           F            N   \n",
      "307328      456052       1         Cash loans           M            Y   \n",
      "307363      456088       1         Cash loans           F            Y   \n",
      "307377      456102       1         Cash loans           M            N   \n",
      "307383      456108       1         Cash loans           F            N   \n",
      "307386      456112       1         Cash loans           F            N   \n",
      "307407      456140       1         Cash loans           F            Y   \n",
      "307410      456143       1         Cash loans           F            N   \n",
      "307433      456171       1         Cash loans           M            N   \n",
      "307438      456176       1         Cash loans           M            N   \n",
      "307446      456184       1         Cash loans           M            N   \n",
      "307448      456186       1         Cash loans           M            N   \n",
      "307475      456215       1         Cash loans           F            N   \n",
      "307481      456225       1         Cash loans           M            N   \n",
      "307489      456233       1         Cash loans           F            N   \n",
      "307509      456254       1         Cash loans           F            N   \n",
      "\n",
      "       FLAG_OWN_REALTY  CNT_CHILDREN  AMT_INCOME_TOTAL  AMT_CREDIT  \\\n",
      "1                    N             0        270000.000   1293502.5   \n",
      "2                    Y             0         67500.000    135000.0   \n",
      "3                    Y             0        135000.000    312682.5   \n",
      "4                    Y             0        121500.000    513000.0   \n",
      "5                    Y             0         99000.000    490495.5   \n",
      "6                    Y             1        171000.000   1560726.0   \n",
      "7                    Y             0        360000.000   1530000.0   \n",
      "8                    Y             0        112500.000   1019610.0   \n",
      "9                    Y             0        135000.000    405000.0   \n",
      "10                   Y             1        112500.000    652500.0   \n",
      "11                   Y             0         38419.155    148365.0   \n",
      "12                   Y             0         67500.000     80865.0   \n",
      "13                   N             1        225000.000    918468.0   \n",
      "14                   Y             0        189000.000    773680.5   \n",
      "15                   Y             0        157500.000    299772.0   \n",
      "16                   N             0        108000.000    509602.5   \n",
      "17                   Y             1         81000.000    270000.0   \n",
      "18                   Y             0        112500.000    157500.0   \n",
      "19                   Y             1         90000.000    544491.0   \n",
      "20                   Y             0        135000.000    427500.0   \n",
      "21                   Y             1        202500.000   1132573.5   \n",
      "22                   N             1        450000.000    497520.0   \n",
      "23                   Y             0         83250.000    239850.0   \n",
      "24                   N             2        135000.000    247500.0   \n",
      "25                   Y             0         90000.000    225000.0   \n",
      "27                   Y             1        112500.000    327024.0   \n",
      "28                   Y             0        270000.000    790830.0   \n",
      "29                   Y             0         90000.000    180000.0   \n",
      "30                   Y             0        292500.000    665892.0   \n",
      "31                   Y             0        112500.000    512064.0   \n",
      "...                ...           ...               ...         ...   \n",
      "307123               Y             1        225000.000   1149628.5   \n",
      "307126               N             2        112500.000    450000.0   \n",
      "307133               Y             0         90000.000    135000.0   \n",
      "307162               N             0        180000.000    450000.0   \n",
      "307177               N             0        135000.000    260640.0   \n",
      "307183               Y             0        180000.000    328405.5   \n",
      "307248               Y             0        112500.000    450000.0   \n",
      "307256               Y             0         58500.000    183384.0   \n",
      "307266               N             0        189000.000    604413.0   \n",
      "307268               N             0        135000.000    355536.0   \n",
      "307283               Y             0        130500.000    306306.0   \n",
      "307285               Y             0         76500.000    284400.0   \n",
      "307288               Y             0         90000.000    601470.0   \n",
      "307310               Y             0         90000.000    490536.0   \n",
      "307323               Y             0         58500.000    448056.0   \n",
      "307328               N             1        135000.000    316125.0   \n",
      "307363               Y             0         29250.000    663093.0   \n",
      "307377               Y             0         67500.000    313438.5   \n",
      "307383               Y             1        135000.000    457834.5   \n",
      "307386               Y             0        135000.000    221832.0   \n",
      "307407               Y             1        261000.000    711454.5   \n",
      "307410               Y             0         85500.000    180000.0   \n",
      "307433               Y             0         50400.000    113760.0   \n",
      "307438               Y             0        171000.000   1436850.0   \n",
      "307446               N             0        270000.000    900000.0   \n",
      "307448               N             1        207000.000    450000.0   \n",
      "307475               N             1        144000.000   1303200.0   \n",
      "307481               Y             0        225000.000    297000.0   \n",
      "307489               Y             0        225000.000    521280.0   \n",
      "307509               Y             0        171000.000    370107.0   \n",
      "\n",
      "        AMT_ANNUITY             ...              FLAG_DOCUMENT_18  \\\n",
      "1           35698.5             ...                             0   \n",
      "2            6750.0             ...                             0   \n",
      "3           29686.5             ...                             0   \n",
      "4           21865.5             ...                             0   \n",
      "5           27517.5             ...                             0   \n",
      "6           41301.0             ...                             0   \n",
      "7           42075.0             ...                             0   \n",
      "8           33826.5             ...                             0   \n",
      "9           20250.0             ...                             0   \n",
      "10          21177.0             ...                             0   \n",
      "11          10678.5             ...                             0   \n",
      "12           5881.5             ...                             0   \n",
      "13          28966.5             ...                             0   \n",
      "14          32778.0             ...                             0   \n",
      "15          20160.0             ...                             0   \n",
      "16          26149.5             ...                             0   \n",
      "17          13500.0             ...                             0   \n",
      "18           7875.0             ...                             0   \n",
      "19          17563.5             ...                             0   \n",
      "20          21375.0             ...                             0   \n",
      "21          37561.5             ...                             0   \n",
      "22          32521.5             ...                             0   \n",
      "23          23850.0             ...                             0   \n",
      "24          12703.5             ...                             0   \n",
      "25          11074.5             ...                             0   \n",
      "27          23827.5             ...                             0   \n",
      "28          57676.5             ...                             0   \n",
      "29           9000.0             ...                             0   \n",
      "30          24592.5             ...                             0   \n",
      "31          25033.5             ...                             0   \n",
      "...             ...             ...                           ...   \n",
      "307123      48838.5             ...                             0   \n",
      "307126      30573.0             ...                             0   \n",
      "307133       6750.0             ...                             0   \n",
      "307162      30573.0             ...                             0   \n",
      "307177      28197.0             ...                             0   \n",
      "307183      26077.5             ...                             0   \n",
      "307248      27324.0             ...                             0   \n",
      "307256      14485.5             ...                             0   \n",
      "307266      25537.5             ...                             0   \n",
      "307268      19417.5             ...                             0   \n",
      "307283      13108.5             ...                             0   \n",
      "307285      13963.5             ...                             0   \n",
      "307288      30838.5             ...                             0   \n",
      "307310      23989.5             ...                             0   \n",
      "307323      17019.0             ...                             0   \n",
      "307328      15372.0             ...                             0   \n",
      "307363      21519.0             ...                             0   \n",
      "307377      20943.0             ...                             0   \n",
      "307383      33444.0             ...                             0   \n",
      "307386      17653.5             ...                             0   \n",
      "307407      47673.0             ...                             0   \n",
      "307410       8059.5             ...                             0   \n",
      "307433       7731.0             ...                             0   \n",
      "307438      42142.5             ...                             0   \n",
      "307446      40671.0             ...                             0   \n",
      "307448      32746.5             ...                             0   \n",
      "307475      46809.0             ...                             0   \n",
      "307481      19975.5             ...                             0   \n",
      "307489      23089.5             ...                             0   \n",
      "307509      20205.0             ...                             0   \n",
      "\n",
      "       FLAG_DOCUMENT_19 FLAG_DOCUMENT_20 FLAG_DOCUMENT_21  \\\n",
      "1                     0                0                0   \n",
      "2                     0                0                0   \n",
      "3                     0                0                0   \n",
      "4                     0                0                0   \n",
      "5                     0                0                0   \n",
      "6                     0                0                0   \n",
      "7                     0                0                0   \n",
      "8                     0                0                0   \n",
      "9                     0                0                0   \n",
      "10                    0                0                0   \n",
      "11                    0                0                0   \n",
      "12                    0                0                0   \n",
      "13                    0                0                0   \n",
      "14                    0                0                0   \n",
      "15                    0                0                0   \n",
      "16                    0                0                0   \n",
      "17                    0                0                0   \n",
      "18                    0                0                0   \n",
      "19                    0                0                0   \n",
      "20                    0                0                0   \n",
      "21                    0                0                0   \n",
      "22                    0                0                0   \n",
      "23                    0                0                0   \n",
      "24                    0                0                0   \n",
      "25                    0                0                0   \n",
      "27                    0                0                0   \n",
      "28                    0                0                0   \n",
      "29                    0                0                0   \n",
      "30                    0                0                0   \n",
      "31                    0                0                0   \n",
      "...                 ...              ...              ...   \n",
      "307123                0                0                0   \n",
      "307126                0                0                0   \n",
      "307133                0                0                0   \n",
      "307162                0                0                0   \n",
      "307177                0                0                0   \n",
      "307183                0                0                0   \n",
      "307248                0                0                0   \n",
      "307256                0                0                0   \n",
      "307266                0                0                0   \n",
      "307268                0                0                0   \n",
      "307283                0                0                0   \n",
      "307285                0                0                0   \n",
      "307288                0                0                0   \n",
      "307310                0                0                0   \n",
      "307323                0                0                0   \n",
      "307328                0                0                0   \n",
      "307363                0                0                0   \n",
      "307377                0                0                0   \n",
      "307383                0                0                0   \n",
      "307386                0                0                0   \n",
      "307407                0                0                0   \n",
      "307410                0                0                0   \n",
      "307433                0                0                0   \n",
      "307438                0                0                0   \n",
      "307446                0                0                0   \n",
      "307448                0                0                0   \n",
      "307475                0                0                0   \n",
      "307481                0                0                0   \n",
      "307489                0                0                0   \n",
      "307509                0                0                0   \n",
      "\n",
      "       AMT_REQ_CREDIT_BUREAU_HOUR AMT_REQ_CREDIT_BUREAU_DAY  \\\n",
      "1                             0.0                       0.0   \n",
      "2                             0.0                       0.0   \n",
      "3                             NaN                       NaN   \n",
      "4                             0.0                       0.0   \n",
      "5                             0.0                       0.0   \n",
      "6                             0.0                       0.0   \n",
      "7                             0.0                       0.0   \n",
      "8                             0.0                       0.0   \n",
      "9                             NaN                       NaN   \n",
      "10                            0.0                       0.0   \n",
      "11                            0.0                       0.0   \n",
      "12                            0.0                       0.0   \n",
      "13                            0.0                       0.0   \n",
      "14                            NaN                       NaN   \n",
      "15                            0.0                       0.0   \n",
      "16                            0.0                       0.0   \n",
      "17                            NaN                       NaN   \n",
      "18                            0.0                       0.0   \n",
      "19                            0.0                       0.0   \n",
      "20                            NaN                       NaN   \n",
      "21                            0.0                       0.0   \n",
      "22                            0.0                       0.0   \n",
      "23                            0.0                       0.0   \n",
      "24                            0.0                       0.0   \n",
      "25                            0.0                       0.0   \n",
      "27                            0.0                       0.0   \n",
      "28                            0.0                       0.0   \n",
      "29                            NaN                       NaN   \n",
      "30                            0.0                       0.0   \n",
      "31                            0.0                       0.0   \n",
      "...                           ...                       ...   \n",
      "307123                        0.0                       0.0   \n",
      "307126                        0.0                       0.0   \n",
      "307133                        0.0                       0.0   \n",
      "307162                        0.0                       0.0   \n",
      "307177                        0.0                       0.0   \n",
      "307183                        0.0                       0.0   \n",
      "307248                        0.0                       2.0   \n",
      "307256                        NaN                       NaN   \n",
      "307266                        0.0                       0.0   \n",
      "307268                        NaN                       NaN   \n",
      "307283                        0.0                       0.0   \n",
      "307285                        0.0                       0.0   \n",
      "307288                        NaN                       NaN   \n",
      "307310                        0.0                       0.0   \n",
      "307323                        0.0                       0.0   \n",
      "307328                        NaN                       NaN   \n",
      "307363                        0.0                       0.0   \n",
      "307377                        NaN                       NaN   \n",
      "307383                        0.0                       0.0   \n",
      "307386                        0.0                       0.0   \n",
      "307407                        0.0                       0.0   \n",
      "307410                        0.0                       0.0   \n",
      "307433                        0.0                       0.0   \n",
      "307438                        0.0                       0.0   \n",
      "307446                        NaN                       NaN   \n",
      "307448                        0.0                       0.0   \n",
      "307475                        0.0                       0.0   \n",
      "307481                        0.0                       0.0   \n",
      "307489                        0.0                       0.0   \n",
      "307509                        0.0                       0.0   \n",
      "\n",
      "        AMT_REQ_CREDIT_BUREAU_WEEK  AMT_REQ_CREDIT_BUREAU_MON  \\\n",
      "1                              0.0                        0.0   \n",
      "2                              0.0                        0.0   \n",
      "3                              NaN                        NaN   \n",
      "4                              0.0                        0.0   \n",
      "5                              0.0                        0.0   \n",
      "6                              0.0                        1.0   \n",
      "7                              0.0                        0.0   \n",
      "8                              0.0                        0.0   \n",
      "9                              NaN                        NaN   \n",
      "10                             0.0                        1.0   \n",
      "11                             0.0                        0.0   \n",
      "12                             0.0                        1.0   \n",
      "13                             0.0                        0.0   \n",
      "14                             NaN                        NaN   \n",
      "15                             0.0                        0.0   \n",
      "16                             0.0                        0.0   \n",
      "17                             NaN                        NaN   \n",
      "18                             0.0                        0.0   \n",
      "19                             0.0                        0.0   \n",
      "20                             NaN                        NaN   \n",
      "21                             0.0                        0.0   \n",
      "22                             0.0                        0.0   \n",
      "23                             0.0                        0.0   \n",
      "24                             0.0                        0.0   \n",
      "25                             0.0                        0.0   \n",
      "27                             0.0                        0.0   \n",
      "28                             0.0                        1.0   \n",
      "29                             NaN                        NaN   \n",
      "30                             0.0                        1.0   \n",
      "31                             0.0                        0.0   \n",
      "...                            ...                        ...   \n",
      "307123                         0.0                        0.0   \n",
      "307126                         0.0                        0.0   \n",
      "307133                         0.0                        0.0   \n",
      "307162                         0.0                        1.0   \n",
      "307177                         0.0                        0.0   \n",
      "307183                         0.0                        1.0   \n",
      "307248                         0.0                        0.0   \n",
      "307256                         NaN                        NaN   \n",
      "307266                         0.0                        0.0   \n",
      "307268                         NaN                        NaN   \n",
      "307283                         0.0                        1.0   \n",
      "307285                         0.0                        0.0   \n",
      "307288                         NaN                        NaN   \n",
      "307310                         0.0                        0.0   \n",
      "307323                         0.0                        0.0   \n",
      "307328                         NaN                        NaN   \n",
      "307363                         0.0                        1.0   \n",
      "307377                         NaN                        NaN   \n",
      "307383                         0.0                        0.0   \n",
      "307386                         0.0                        0.0   \n",
      "307407                         0.0                        1.0   \n",
      "307410                         0.0                        0.0   \n",
      "307433                         0.0                        0.0   \n",
      "307438                         0.0                        0.0   \n",
      "307446                         NaN                        NaN   \n",
      "307448                         0.0                        0.0   \n",
      "307475                         0.0                        1.0   \n",
      "307481                         0.0                        0.0   \n",
      "307489                         0.0                        0.0   \n",
      "307509                         0.0                        0.0   \n",
      "\n",
      "        AMT_REQ_CREDIT_BUREAU_QRT  AMT_REQ_CREDIT_BUREAU_YEAR  \n",
      "1                             0.0                         0.0  \n",
      "2                             0.0                         0.0  \n",
      "3                             NaN                         NaN  \n",
      "4                             0.0                         0.0  \n",
      "5                             1.0                         1.0  \n",
      "6                             1.0                         2.0  \n",
      "7                             0.0                         0.0  \n",
      "8                             0.0                         1.0  \n",
      "9                             NaN                         NaN  \n",
      "10                            0.0                         0.0  \n",
      "11                            0.0                         2.0  \n",
      "12                            0.0                         0.0  \n",
      "13                            0.0                         1.0  \n",
      "14                            NaN                         NaN  \n",
      "15                            0.0                         1.0  \n",
      "16                            1.0                         0.0  \n",
      "17                            NaN                         NaN  \n",
      "18                            0.0                         0.0  \n",
      "19                            0.0                         2.0  \n",
      "20                            NaN                         NaN  \n",
      "21                            1.0                         4.0  \n",
      "22                            0.0                         5.0  \n",
      "23                            0.0                         3.0  \n",
      "24                            0.0                         0.0  \n",
      "25                            0.0                         0.0  \n",
      "27                            0.0                         0.0  \n",
      "28                            0.0                         1.0  \n",
      "29                            NaN                         NaN  \n",
      "30                            0.0                         5.0  \n",
      "31                            2.0                         5.0  \n",
      "...                           ...                         ...  \n",
      "307123                        3.0                         2.0  \n",
      "307126                        0.0                         0.0  \n",
      "307133                        0.0                         1.0  \n",
      "307162                        0.0                         3.0  \n",
      "307177                        0.0                         1.0  \n",
      "307183                        0.0                         2.0  \n",
      "307248                        0.0                         2.0  \n",
      "307256                        NaN                         NaN  \n",
      "307266                        0.0                         2.0  \n",
      "307268                        NaN                         NaN  \n",
      "307283                        0.0                         0.0  \n",
      "307285                        3.0                         1.0  \n",
      "307288                        NaN                         NaN  \n",
      "307310                        0.0                         2.0  \n",
      "307323                        0.0                         1.0  \n",
      "307328                        NaN                         NaN  \n",
      "307363                        0.0                         5.0  \n",
      "307377                        NaN                         NaN  \n",
      "307383                        0.0                         2.0  \n",
      "307386                        0.0                         7.0  \n",
      "307407                        0.0                         1.0  \n",
      "307410                        0.0                         2.0  \n",
      "307433                        0.0                         4.0  \n",
      "307438                        1.0                         2.0  \n",
      "307446                        NaN                         NaN  \n",
      "307448                        0.0                         2.0  \n",
      "307475                        0.0                         6.0  \n",
      "307481                        0.0                         3.0  \n",
      "307489                        1.0                         2.0  \n",
      "307509                        0.0                         0.0  \n",
      "\n",
      "[580586 rows x 122 columns]\n"
     ]
    }
   ],
   "source": [
    "import pandas as pd\n",
    "unpickled_df = pd.read_pickle('balancedData.pkl')\n",
    "print(unpickled_df)"
   ]
  },
  {
   "cell_type": "markdown",
   "metadata": {},
   "source": [
    "# Non- numeric data - string in the data frame\n",
    "Looking at the data above, reveals some of the columns have non-numeric values, e.g., CODE_GENDER contains F or M values.\n",
    "Before appliying Decision Tree, we need to transform the non-numeric vaalues to numeric ones. We need a dictionary to uniquely assign numeric vaues to non-numeric ones in each column. defaultdict(LabelEncoder) defines the dictionary d.\n",
    "In the next line, we convert all strings into numeric values using the defined dictionart, d. "
   ]
  },
  {
   "cell_type": "code",
   "execution_count": 2,
   "metadata": {},
   "outputs": [],
   "source": [
    "from collections import defaultdict\n",
    "from sklearn.preprocessing import LabelEncoder\n",
    "d = defaultdict(LabelEncoder)\n",
    "numeric_train_df = unpickled_df.apply(lambda x: d[x.name].fit_transform(x.astype(str)))"
   ]
  },
  {
   "cell_type": "markdown",
   "metadata": {},
   "source": [
    "# Selecting inputs (features) and outputs (targets) for our model\n",
    "To define a model based on the historical data we have from the balanced training set, we shall determine inputs and outputs. We then select the TARGET values from the numeric_train_df and call it y.\n",
    "We select all columns except the target and the applicant's ID as training features (Input of our model) and name it X.\n",
    "We then select the TARGET values from the numeric_train_df and call it y."
   ]
  },
  {
   "cell_type": "code",
   "execution_count": 3,
   "metadata": {},
   "outputs": [],
   "source": [
    "columns_of_interest =(numeric_train_df.drop(['TARGET','SK_ID_CURR'], axis=1)).columns\n",
    "X = numeric_train_df [columns_of_interest]\n",
    "y = numeric_train_df.TARGET"
   ]
  },
  {
   "cell_type": "markdown",
   "metadata": {},
   "source": [
    "# Splitting the training data\n",
    "Now that X, and Y are ready, we can apply any machine learning algorithm we like, and train a model to describe the relation between inputs and outputs in our training set. But wait! We need to keep some of the training data as a validation set to check the performance of our model. Therefore, we use train_test_split to split the data into training and validating data. By default 25% of the training data is kept aside for validation. However, we can change this percentage by changing the value of test_size in the train_test_split. "
   ]
  },
  {
   "cell_type": "code",
   "execution_count": 4,
   "metadata": {},
   "outputs": [],
   "source": [
    "from sklearn.model_selection import train_test_split\n",
    "train_X, val_X, train_y, val_y = train_test_split(X, y,test_size = 0.25, random_state = 20)"
   ]
  },
  {
   "cell_type": "markdown",
   "metadata": {},
   "source": [
    "The train_X, and train_y contains features and targets of the training set, and val_X, and val_y have validation set values.\n",
    "We have used .shape to have an idea of the size of the training and validation sets."
   ]
  },
  {
   "cell_type": "code",
   "execution_count": 5,
   "metadata": {},
   "outputs": [
    {
     "name": "stdout",
     "output_type": "stream",
     "text": [
      "Training Features Shape: (435439, 120)\n",
      "Training Labels Shape: (435439,)\n",
      "Validation Features Shape: (145147, 120)\n",
      "Validation Labels Shape: (145147,)\n"
     ]
    }
   ],
   "source": [
    "print('Training Features Shape:', train_X.shape)\n",
    "print('Training Labels Shape:', train_y.shape)\n",
    "print('Validation Features Shape:', val_X.shape)\n",
    "print('Validation Labels Shape:', val_y.shape)"
   ]
  },
  {
   "cell_type": "markdown",
   "metadata": {},
   "source": [
    "# Applying Descision Tree Model to the training data:\n",
    "Luckily, we can easilyimport the desired machine learning library, RandomForestClassifier here, and use it to train our model. In the first step, we initiate the model structureand name it clf. By convention, clf means 'Classifier', and in the next step, we train the Classifier to take the training features and learn how they relate to the training y using '.fit'. This instruction may take a few minutes or more to find the best model to fint the training data. As a result, the specifications of the decision tree would appear."
   ]
  },
  {
   "cell_type": "code",
   "execution_count": 6,
   "metadata": {},
   "outputs": [
    {
     "data": {
      "text/plain": [
       "RandomForestClassifier(bootstrap=True, class_weight='balanced',\n",
       "            criterion='gini', max_depth=None, max_features=11,\n",
       "            max_leaf_nodes=None, min_impurity_decrease=0.0,\n",
       "            min_impurity_split=None, min_samples_leaf=1,\n",
       "            min_samples_split=2, min_weight_fraction_leaf=0.0,\n",
       "            n_estimators=10, n_jobs=1, oob_score=False, random_state=None,\n",
       "            verbose=0, warm_start=False)"
      ]
     },
     "execution_count": 6,
     "metadata": {},
     "output_type": "execute_result"
    }
   ],
   "source": [
    "Method ='RandomForestClassifier' # We will uuse this name later when exporting the results\n",
    "from sklearn.ensemble import RandomForestClassifier\n",
    "from sklearn.datasets import make_classification\n",
    "clf = RandomForestClassifier(class_weight=\"balanced\", max_features = 11)\n",
    "clf.fit(train_X, train_y)"
   ]
  },
  {
   "cell_type": "markdown",
   "metadata": {},
   "source": [
    "# Make Predictions on the Validation Set:\n",
    "Now that the clf is ready, we can predict the output of a given set of features (inputs) by using'.predict' method. Weapply it on the validation set to predict the output of the validation set."
   ]
  },
  {
   "cell_type": "code",
   "execution_count": 7,
   "metadata": {},
   "outputs": [
    {
     "data": {
      "text/plain": [
       "(145147,)"
      ]
     },
     "execution_count": 7,
     "metadata": {},
     "output_type": "execute_result"
    }
   ],
   "source": [
    "predictions = clf.predict(val_X)\n",
    "predictions.shape"
   ]
  },
  {
   "cell_type": "markdown",
   "metadata": {},
   "source": [
    "# Evaluate Classifier\n",
    "We have predicted the output values (targets) for the validation data. Now, we can compare it with the real outputs we have and calculate the error. "
   ]
  },
  {
   "cell_type": "code",
   "execution_count": 8,
   "metadata": {},
   "outputs": [
    {
     "name": "stdout",
     "output_type": "stream",
     "text": [
      "Mean Error: 0.0056\n"
     ]
    }
   ],
   "source": [
    "import numpy as np\n",
    "error = predictions - val_y\n",
    "print('Mean Error:', round(np.mean(error), 4))"
   ]
  },
  {
   "cell_type": "markdown",
   "metadata": {},
   "source": [
    "Alternatively: "
   ]
  },
  {
   "cell_type": "code",
   "execution_count": 9,
   "metadata": {},
   "outputs": [
    {
     "name": "stdout",
     "output_type": "stream",
     "text": [
      "Mean Absolute Error = 0.56 %\n"
     ]
    }
   ],
   "source": [
    "from sklearn.metrics import mean_absolute_error\n",
    "print('Mean Absolute Error = %.2f'% (100*mean_absolute_error(val_y, predictions)),'%')"
   ]
  },
  {
   "cell_type": "markdown",
   "metadata": {},
   "source": [
    "The error is arround 0.6%. This is a good indicator of total error we have from the validation set. However, it does not judge the performance of th model on targets and non-targets. There are other indicators such as cv_score, and F1 score which can better judge about the performance of the trained models."
   ]
  },
  {
   "cell_type": "code",
   "execution_count": 10,
   "metadata": {},
   "outputs": [
    {
     "name": "stdout",
     "output_type": "stream",
     "text": [
      "cv_scores = 0.19465351100425762\n"
     ]
    }
   ],
   "source": [
    "from sklearn.metrics import log_loss\n",
    "cv_scores = log_loss(val_y, predictions)\n",
    "print('cv_scores =', cv_scores)"
   ]
  },
  {
   "cell_type": "markdown",
   "metadata": {},
   "source": [
    "# Analyzing the model performance: False and true predictions"
   ]
  },
  {
   "cell_type": "code",
   "execution_count": 11,
   "metadata": {},
   "outputs": [
    {
     "name": "stdout",
     "output_type": "stream",
     "text": [
      "Number of false predictions: 818\n",
      "Number of total predictions: 145147\n",
      "Number of correct predictions: 144329\n",
      "Number of false positives: 818\n",
      "Number of false negatives: 0\n",
      "Number of true positives: 74354\n",
      "Number of true negatives: 69975\n"
     ]
    }
   ],
   "source": [
    "result=pd.DataFrame({'Validation':val_y,'Predictions':predictions, 'Error': error})\n",
    "result.describe()\n",
    "#print(result)\n",
    "print('Number of false predictions:', result['Error'].abs().sum())\n",
    "print('Number of total predictions:', result['Error'].count())\n",
    "print('Number of correct predictions:', result['Error'].abs().count()-result['Error'].sum())\n",
    "fp = (result['Error']==1).sum()\n",
    "fn = (result['Error']==-1).sum()\n",
    "tp = ((result['Predictions']==1)&(result['Validation']==1)).sum()\n",
    "tn = ((result['Predictions']==0)&(result['Validation']==0)).sum()\n",
    "print('Number of false positives:',fp )\n",
    "print('Number of false negatives:',fn)\n",
    "print('Number of true positives:', tp)\n",
    "print('Number of true negatives:', tn)"
   ]
  },
  {
   "cell_type": "markdown",
   "metadata": {},
   "source": [
    "# Popular metrics: F1 score, prescision, recall, and accuracy: "
   ]
  },
  {
   "cell_type": "code",
   "execution_count": 12,
   "metadata": {},
   "outputs": [
    {
     "name": "stdout",
     "output_type": "stream",
     "text": [
      "Precision = 98.91 %\n",
      "Recall = 100.00 %\n",
      "F1 score = 99.45 %\n",
      "Accuracy = 99.44 %\n"
     ]
    }
   ],
   "source": [
    "precision = round((tp*100)/(tp+fp),2)\n",
    "print('Precision =', precision,'%')\n",
    "recall = round((tp*100)/(tp+fn),2)\n",
    "print('Recall = %.2f'%recall,'%')\n",
    "F1 = round(2*(precision*recall)/(precision+recall),2)\n",
    "print('F1 score = %.2f' %F1, '%')\n",
    "accuracy = round(100*(tp +tn)/(tp+tn+fp+fn),2)\n",
    "print('Accuracy = %.2f' %accuracy, '%')"
   ]
  },
  {
   "cell_type": "markdown",
   "metadata": {},
   "source": [
    "The recall increased to almost 100% with a high accuracy and F1 score. There is no false negatives which is very good. It means, all of the applicants whom we predict to return their loan, will do.\n",
    "There are a few applicant whom we predict not to return their loan, but they will. So, the model is a bit conservative in determining the trustable applicants which is good. We can distinguish all applicants who will not return their loan."
   ]
  },
  {
   "cell_type": "markdown",
   "metadata": {},
   "source": [
    "# Predict the TARGET column of the Test data sets\n",
    "Now that the model is ready, and the performance is acceptable, we predict the targets of the test set."
   ]
  },
  {
   "cell_type": "code",
   "execution_count": 13,
   "metadata": {},
   "outputs": [],
   "source": [
    "df_test = pd.read_csv('Data/application_test.csv')\n",
    "Test_columns_of_interest =(df_test.drop(['SK_ID_CURR'], axis=1)).columns\n",
    "Test_X = df_test[Test_columns_of_interest]\n",
    "\n",
    "p = clf.predict(Test_X.apply(lambda x: d[x.name].fit_transform(x.astype(str))))\n",
    "f_result=pd.DataFrame({'SK_ID_CURR':df_test['SK_ID_CURR'],'TARGET':p})\n",
    "my_result= f_result.set_index('SK_ID_CURR')"
   ]
  },
  {
   "cell_type": "code",
   "execution_count": 14,
   "metadata": {},
   "outputs": [
    {
     "name": "stdout",
     "output_type": "stream",
     "text": [
      "We predict 673 number of applicants out of 48744 applicants in total, will not repay their loan.\n",
      "In the other words, base on the historical data given, 1.38 % of applicants are predicted not to repay their loans.\n"
     ]
    }
   ],
   "source": [
    "print('We predict', f_result['TARGET'].sum(),'number of applicants out of', f_result['TARGET'].count(),'applicants in total, will not repay their loan.' )\n",
    "ratio = f_result['TARGET'].sum()/f_result['TARGET'].count()*100\n",
    "print('In the other words, base on the historical data given, %.2f'%ratio, '% of applicants are predicted not to repay their loans.')"
   ]
  },
  {
   "cell_type": "markdown",
   "metadata": {},
   "source": [
    "# Export the result to SQL"
   ]
  },
  {
   "cell_type": "code",
   "execution_count": 15,
   "metadata": {},
   "outputs": [],
   "source": [
    "import sqlite3\n",
    "import re\n",
    "conn = sqlite3.connect('Summary.sqlite')\n",
    "my_result.to_sql('MyResult', conn, if_exists='replace')"
   ]
  },
  {
   "cell_type": "markdown",
   "metadata": {},
   "source": [
    "# What is next? \n",
    "We need to do some try and error to find the best model, and tune some parameters, e.g., training with original unbalanced data sets and so on. The best way to compare different models is to extract the performance metrics of each method in a table and compare them together."
   ]
  },
  {
   "cell_type": "code",
   "execution_count": 16,
   "metadata": {},
   "outputs": [],
   "source": [
    "cur = conn.cursor()\n",
    "cur.execute('DROP TABLE IF EXISTS Results')\n",
    "cur.execute('''\n",
    "CREATE TABLE Results (Method TEXT, Accuracy FLOAT, Precision FLOAT, F1 FLOAT, Recall FLOAT)''')\n",
    "cur.execute('''INSERT INTO Results (Method, Accuracy, Precision, F1, Recall)\n",
    "               VALUES (?, ?, ?, ?, ?)''', (Method, accuracy, precision, F1, recall))\n",
    "conn.commit()\n",
    "cur.close()"
   ]
  }
 ],
 "metadata": {
  "kernelspec": {
   "display_name": "Python 3",
   "language": "python",
   "name": "python3"
  },
  "language_info": {
   "codemirror_mode": {
    "name": "ipython",
    "version": 3
   },
   "file_extension": ".py",
   "mimetype": "text/x-python",
   "name": "python",
   "nbconvert_exporter": "python",
   "pygments_lexer": "ipython3",
   "version": "3.6.4"
  }
 },
 "nbformat": 4,
 "nbformat_minor": 2
}
